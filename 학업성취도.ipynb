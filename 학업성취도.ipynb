{
 "cells": [
  {
   "cell_type": "code",
   "execution_count": 37,
   "metadata": {},
   "outputs": [
    {
     "data": {
      "text/html": [
       "<div>\n",
       "<style scoped>\n",
       "    .dataframe tbody tr th:only-of-type {\n",
       "        vertical-align: middle;\n",
       "    }\n",
       "\n",
       "    .dataframe tbody tr th {\n",
       "        vertical-align: top;\n",
       "    }\n",
       "\n",
       "    .dataframe thead th {\n",
       "        text-align: right;\n",
       "    }\n",
       "</style>\n",
       "<table border=\"1\" class=\"dataframe\">\n",
       "  <thead>\n",
       "    <tr style=\"text-align: right;\">\n",
       "      <th></th>\n",
       "      <th>3월 원점수</th>\n",
       "      <th>6월 원점수</th>\n",
       "      <th>3월 표준점수</th>\n",
       "      <th>6월 표준점수</th>\n",
       "      <th>3월 백분위</th>\n",
       "      <th>6월 백분위</th>\n",
       "    </tr>\n",
       "  </thead>\n",
       "  <tbody>\n",
       "    <tr>\n",
       "      <th>학생A</th>\n",
       "      <td>37</td>\n",
       "      <td>76</td>\n",
       "      <td>93</td>\n",
       "      <td>129</td>\n",
       "      <td>43.55</td>\n",
       "      <td>88.92</td>\n",
       "    </tr>\n",
       "    <tr>\n",
       "      <th>학생B</th>\n",
       "      <td>51</td>\n",
       "      <td>64</td>\n",
       "      <td>120</td>\n",
       "      <td>130</td>\n",
       "      <td>82.74</td>\n",
       "      <td>89.82</td>\n",
       "    </tr>\n",
       "    <tr>\n",
       "      <th>학생C</th>\n",
       "      <td>62</td>\n",
       "      <td>76</td>\n",
       "      <td>126</td>\n",
       "      <td>132</td>\n",
       "      <td>87.32</td>\n",
       "      <td>91.25</td>\n",
       "    </tr>\n",
       "    <tr>\n",
       "      <th>학생D</th>\n",
       "      <td>82</td>\n",
       "      <td>90</td>\n",
       "      <td>134</td>\n",
       "      <td>156</td>\n",
       "      <td>92.10</td>\n",
       "      <td>96.42</td>\n",
       "    </tr>\n",
       "  </tbody>\n",
       "</table>\n",
       "</div>"
      ],
      "text/plain": [
       "     3월 원점수  6월 원점수  3월 표준점수  6월 표준점수  3월 백분위  6월 백분위\n",
       "학생A      37      76       93      129   43.55   88.92\n",
       "학생B      51      64      120      130   82.74   89.82\n",
       "학생C      62      76      126      132   87.32   91.25\n",
       "학생D      82      90      134      156   92.10   96.42"
      ]
     },
     "execution_count": 37,
     "metadata": {},
     "output_type": "execute_result"
    }
   ],
   "source": [
    "import pandas as pd\n",
    "import numpy as np\n",
    "import matplotlib.pyplot as plt\n",
    "import matplotlib.font_manager as fm\n",
    "%matplotlib inline\n",
    "\n",
    "df = pd.read_excel('전국연합학력평가.xlsx', sheet_name = 0)\n",
    "df.columns = ['3월 원점수', '6월 원점수', '3월 표준점수', '6월 표준점수', '3월 백분위', '6월 백분위']\n",
    "df.index = ['학생A', '학생B', '학생C', '학생D']\n",
    "df.head()"
   ]
  },
  {
   "cell_type": "code",
   "execution_count": 38,
   "metadata": {},
   "outputs": [
    {
     "data": {
      "text/html": [
       "<div>\n",
       "<style scoped>\n",
       "    .dataframe tbody tr th:only-of-type {\n",
       "        vertical-align: middle;\n",
       "    }\n",
       "\n",
       "    .dataframe tbody tr th {\n",
       "        vertical-align: top;\n",
       "    }\n",
       "\n",
       "    .dataframe thead th {\n",
       "        text-align: right;\n",
       "    }\n",
       "</style>\n",
       "<table border=\"1\" class=\"dataframe\">\n",
       "  <thead>\n",
       "    <tr style=\"text-align: right;\">\n",
       "      <th></th>\n",
       "      <th>3월 원점수</th>\n",
       "      <th>6월 원점수</th>\n",
       "      <th>3월</th>\n",
       "      <th>6월</th>\n",
       "      <th>3월 백분위</th>\n",
       "      <th>6월 백분위</th>\n",
       "    </tr>\n",
       "  </thead>\n",
       "  <tbody>\n",
       "    <tr>\n",
       "      <th>학생A</th>\n",
       "      <td>37</td>\n",
       "      <td>76</td>\n",
       "      <td>93</td>\n",
       "      <td>129</td>\n",
       "      <td>43.55</td>\n",
       "      <td>88.92</td>\n",
       "    </tr>\n",
       "    <tr>\n",
       "      <th>학생B</th>\n",
       "      <td>51</td>\n",
       "      <td>64</td>\n",
       "      <td>120</td>\n",
       "      <td>130</td>\n",
       "      <td>82.74</td>\n",
       "      <td>89.82</td>\n",
       "    </tr>\n",
       "    <tr>\n",
       "      <th>학생C</th>\n",
       "      <td>62</td>\n",
       "      <td>76</td>\n",
       "      <td>126</td>\n",
       "      <td>132</td>\n",
       "      <td>87.32</td>\n",
       "      <td>91.25</td>\n",
       "    </tr>\n",
       "    <tr>\n",
       "      <th>학생D</th>\n",
       "      <td>82</td>\n",
       "      <td>90</td>\n",
       "      <td>134</td>\n",
       "      <td>156</td>\n",
       "      <td>92.10</td>\n",
       "      <td>96.42</td>\n",
       "    </tr>\n",
       "  </tbody>\n",
       "</table>\n",
       "</div>"
      ],
      "text/plain": [
       "     3월 원점수  6월 원점수   3월   6월  3월 백분위  6월 백분위\n",
       "학생A      37      76   93  129   43.55   88.92\n",
       "학생B      51      64  120  130   82.74   89.82\n",
       "학생C      62      76  126  132   87.32   91.25\n",
       "학생D      82      90  134  156   92.10   96.42"
      ]
     },
     "execution_count": 38,
     "metadata": {},
     "output_type": "execute_result"
    }
   ],
   "source": [
    "df = df.rename(columns = {'3월 표준점수': '3월'})\n",
    "df = df.rename(columns = {'6월 표준점수': '6월'})\n",
    "df"
   ]
  },
  {
   "cell_type": "code",
   "execution_count": 39,
   "metadata": {},
   "outputs": [],
   "source": [
    "from scipy import stats\n",
    "import matplotlib.pyplot as plt"
   ]
  },
  {
   "cell_type": "code",
   "execution_count": 40,
   "metadata": {},
   "outputs": [
    {
     "data": {
      "text/plain": [
       "<matplotlib.axes._subplots.AxesSubplot at 0x18d1fef3160>"
      ]
     },
     "execution_count": 40,
     "metadata": {},
     "output_type": "execute_result"
    },
    {
     "data": {
      "image/png": "[encoded data removed]",
      "text/plain": [
       "<Figure size 432x288 with 1 Axes>"
      ]
     },
     "metadata": {
      "needs_background": "light"
     },
     "output_type": "display_data"
    }
   ],
   "source": [
    "from matplotlib import font_manager, rc\n",
    "font_name = font_manager.FontProperties(fname='C:\\Windows\\Fonts\\malgun.ttf').get_name()\n",
    "rc('font', family=font_name)\n",
    "df[['3월', '6월']].plot(kind='box', title='3월, 6월 학업성취도평가 표준점수 비교')"
   ]
  },
  {
   "cell_type": "code",
   "execution_count": 41,
   "metadata": {},
   "outputs": [
    {
     "data": {
      "text/plain": [
       "<matplotlib.axes._subplots.AxesSubplot at 0x18d1f6a5e10>"
      ]
     },
     "execution_count": 41,
     "metadata": {},
     "output_type": "execute_result"
    },
    {
     "data": {
      "image/png": "[encoded data removed]",
      "text/plain": [
       "<Figure size 432x288 with 1 Axes>"
      ]
     },
     "metadata": {
      "needs_background": "light"
     },
     "output_type": "display_data"
    }
   ],
   "source": [
    "from matplotlib import font_manager, rc\n",
    "font_name = font_manager.FontProperties(fname='C:\\Windows\\Fonts\\malgun.ttf').get_name()\n",
    "rc('font', family=font_name)\n",
    "df['difference'] = df['3월'] - df['6월']\n",
    "df['difference'].plot(kind='hist', title='difference')"
   ]
  },
  {
   "cell_type": "code",
   "execution_count": 42,
   "metadata": {},
   "outputs": [
    {
     "data": {
      "image/png": "[encoded data removed]",
      "text/plain": [
       "<Figure size 432x288 with 1 Axes>"
      ]
     },
     "metadata": {
      "needs_background": "light"
     },
     "output_type": "display_data"
    }
   ],
   "source": [
    "stats.probplot(df['difference'], plot= plt)\n",
    "plt.title('difference Q-Q Plot')\n",
    "plt.savefig('difference qq plot.png')"
   ]
  },
  {
   "cell_type": "code",
   "execution_count": 43,
   "metadata": {},
   "outputs": [
    {
     "data": {
      "text/plain": [
       "Ttest_relResult(statistic=-2.740114357292784, pvalue=0.07133150168774703)"
      ]
     },
     "execution_count": 43,
     "metadata": {},
     "output_type": "execute_result"
    }
   ],
   "source": [
    "stats.ttest_rel(df['3월'], df['6월'])"
   ]
  },
  {
   "cell_type": "code",
   "execution_count": 44,
   "metadata": {},
   "outputs": [
    {
     "data": {
      "text/plain": [
       "Ttest_relResult(statistic=-2.658730301447435, pvalue=0.07642147346088483)"
      ]
     },
     "execution_count": 44,
     "metadata": {},
     "output_type": "execute_result"
    }
   ],
   "source": [
    "stats.ttest_rel(df['3월 원점수'], df['6월 원점수'])"
   ]
  },
  {
   "cell_type": "code",
   "execution_count": 46,
   "metadata": {},
   "outputs": [
    {
     "data": {
      "text/plain": [
       "Ttest_relResult(statistic=-1.5040561039215417, pvalue=0.22961251437999916)"
      ]
     },
     "execution_count": 46,
     "metadata": {},
     "output_type": "execute_result"
    }
   ],
   "source": [
    "stats.ttest_rel(df['3월 백분위'], df['6월 백분위'])"
   ]
  },
  {
   "cell_type": "code",
   "execution_count": 52,
   "metadata": {},
   "outputs": [
    {
     "data": {
      "image/png": "[encoded data removed]",
      "text/plain": [
       "<Figure size 432x288 with 1 Axes>"
      ]
     },
     "metadata": {
      "needs_background": "light"
     },
     "output_type": "display_data"
    },
    {
     "data": {
      "image/png": "[encoded data removed]",
      "text/plain": [
       "<Figure size 432x288 with 1 Axes>"
      ]
     },
     "metadata": {
      "needs_background": "light"
     },
     "output_type": "display_data"
    }
   ],
   "source": [
    "import seaborn as sns\n",
    "sns.distplot(df.iloc[:,0])\n",
    "plt.show()\n",
    "stats.probplot(df.iloc[:,0], plot=plt)\n",
    "plt.show()"
   ]
  },
  {
   "cell_type": "code",
   "execution_count": null,
   "metadata": {},
   "outputs": [],
   "source": []
  }
 ],
 "metadata": {
  "kernelspec": {
   "display_name": "Python 3",
   "language": "python",
   "name": "python3"
  },
  "language_info": {
   "codemirror_mode": {
    "name": "ipython",
    "version": 3
   },
   "file_extension": ".py",
   "mimetype": "text/x-python",
   "name": "python",
   "nbconvert_exporter": "python",
   "pygments_lexer": "ipython3",
   "version": "3.7.3"
  }
 },
 "nbformat": 4,
 "nbformat_minor": 2
}
